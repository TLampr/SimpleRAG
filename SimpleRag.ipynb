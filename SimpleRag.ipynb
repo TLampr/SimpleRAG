{
 "nbformat": 4,
 "nbformat_minor": 0,
 "metadata": {
  "colab": {
   "provenance": [],
   "machine_shape": "hm",
   "gpuType": "A100"
  },
  "kernelspec": {
   "name": "python3",
   "display_name": "Python 3"
  },
  "language_info": {
   "name": "python"
  },
  "accelerator": "GPU",
  "widgets": {
   "application/vnd.jupyter.widget-state+json": {
    "3b801777e1c6479992eb61657f2a1b41": {
     "model_module": "@jupyter-widgets/controls",
     "model_name": "HBoxModel",
     "model_module_version": "1.5.0",
     "state": {
      "_dom_classes": [],
      "_model_module": "@jupyter-widgets/controls",
      "_model_module_version": "1.5.0",
      "_model_name": "HBoxModel",
      "_view_count": null,
      "_view_module": "@jupyter-widgets/controls",
      "_view_module_version": "1.5.0",
      "_view_name": "HBoxView",
      "box_style": "",
      "children": [
       "IPY_MODEL_54b1fd08d2614052b671de1a11ad2e6e",
       "IPY_MODEL_295c3d70e5eb424c8942bfb009256dfa",
       "IPY_MODEL_7ac08aa89db34562916aaa3d0b8a30f7"
      ],
      "layout": "IPY_MODEL_c14db9c6e4a744668d095752de79855f"
     }
    },
    "54b1fd08d2614052b671de1a11ad2e6e": {
     "model_module": "@jupyter-widgets/controls",
     "model_name": "HTMLModel",
     "model_module_version": "1.5.0",
     "state": {
      "_dom_classes": [],
      "_model_module": "@jupyter-widgets/controls",
      "_model_module_version": "1.5.0",
      "_model_name": "HTMLModel",
      "_view_count": null,
      "_view_module": "@jupyter-widgets/controls",
      "_view_module_version": "1.5.0",
      "_view_name": "HTMLView",
      "description": "",
      "description_tooltip": null,
      "layout": "IPY_MODEL_884c8189c895482ca1aa778fab6203a0",
      "placeholder": "​",
      "style": "IPY_MODEL_901b38a4213a4033a59605d8e173d6a6",
      "value": "Loading checkpoint shards: 100%"
     }
    },
    "295c3d70e5eb424c8942bfb009256dfa": {
     "model_module": "@jupyter-widgets/controls",
     "model_name": "FloatProgressModel",
     "model_module_version": "1.5.0",
     "state": {
      "_dom_classes": [],
      "_model_module": "@jupyter-widgets/controls",
      "_model_module_version": "1.5.0",
      "_model_name": "FloatProgressModel",
      "_view_count": null,
      "_view_module": "@jupyter-widgets/controls",
      "_view_module_version": "1.5.0",
      "_view_name": "ProgressView",
      "bar_style": "success",
      "description": "",
      "description_tooltip": null,
      "layout": "IPY_MODEL_21f451546c5a47cba41aa20a5244ce12",
      "max": 3,
      "min": 0,
      "orientation": "horizontal",
      "style": "IPY_MODEL_8c3fa138a0f1496c9bbba4c0b15ebd6e",
      "value": 3
     }
    },
    "7ac08aa89db34562916aaa3d0b8a30f7": {
     "model_module": "@jupyter-widgets/controls",
     "model_name": "HTMLModel",
     "model_module_version": "1.5.0",
     "state": {
      "_dom_classes": [],
      "_model_module": "@jupyter-widgets/controls",
      "_model_module_version": "1.5.0",
      "_model_name": "HTMLModel",
      "_view_count": null,
      "_view_module": "@jupyter-widgets/controls",
      "_view_module_version": "1.5.0",
      "_view_name": "HTMLView",
      "description": "",
      "description_tooltip": null,
      "layout": "IPY_MODEL_df762befd390432baeb3ae6db7f14a6b",
      "placeholder": "​",
      "style": "IPY_MODEL_08d684266f9f4b5389689393d0cff71b",
      "value": " 3/3 [00:03&lt;00:00,  1.26s/it]"
     }
    },
    "c14db9c6e4a744668d095752de79855f": {
     "model_module": "@jupyter-widgets/base",
     "model_name": "LayoutModel",
     "model_module_version": "1.2.0",
     "state": {
      "_model_module": "@jupyter-widgets/base",
      "_model_module_version": "1.2.0",
      "_model_name": "LayoutModel",
      "_view_count": null,
      "_view_module": "@jupyter-widgets/base",
      "_view_module_version": "1.2.0",
      "_view_name": "LayoutView",
      "align_content": null,
      "align_items": null,
      "align_self": null,
      "border": null,
      "bottom": null,
      "display": null,
      "flex": null,
      "flex_flow": null,
      "grid_area": null,
      "grid_auto_columns": null,
      "grid_auto_flow": null,
      "grid_auto_rows": null,
      "grid_column": null,
      "grid_gap": null,
      "grid_row": null,
      "grid_template_areas": null,
      "grid_template_columns": null,
      "grid_template_rows": null,
      "height": null,
      "justify_content": null,
      "justify_items": null,
      "left": null,
      "margin": null,
      "max_height": null,
      "max_width": null,
      "min_height": null,
      "min_width": null,
      "object_fit": null,
      "object_position": null,
      "order": null,
      "overflow": null,
      "overflow_x": null,
      "overflow_y": null,
      "padding": null,
      "right": null,
      "top": null,
      "visibility": null,
      "width": null
     }
    },
    "884c8189c895482ca1aa778fab6203a0": {
     "model_module": "@jupyter-widgets/base",
     "model_name": "LayoutModel",
     "model_module_version": "1.2.0",
     "state": {
      "_model_module": "@jupyter-widgets/base",
      "_model_module_version": "1.2.0",
      "_model_name": "LayoutModel",
      "_view_count": null,
      "_view_module": "@jupyter-widgets/base",
      "_view_module_version": "1.2.0",
      "_view_name": "LayoutView",
      "align_content": null,
      "align_items": null,
      "align_self": null,
      "border": null,
      "bottom": null,
      "display": null,
      "flex": null,
      "flex_flow": null,
      "grid_area": null,
      "grid_auto_columns": null,
      "grid_auto_flow": null,
      "grid_auto_rows": null,
      "grid_column": null,
      "grid_gap": null,
      "grid_row": null,
      "grid_template_areas": null,
      "grid_template_columns": null,
      "grid_template_rows": null,
      "height": null,
      "justify_content": null,
      "justify_items": null,
      "left": null,
      "margin": null,
      "max_height": null,
      "max_width": null,
      "min_height": null,
      "min_width": null,
      "object_fit": null,
      "object_position": null,
      "order": null,
      "overflow": null,
      "overflow_x": null,
      "overflow_y": null,
      "padding": null,
      "right": null,
      "top": null,
      "visibility": null,
      "width": null
     }
    },
    "901b38a4213a4033a59605d8e173d6a6": {
     "model_module": "@jupyter-widgets/controls",
     "model_name": "DescriptionStyleModel",
     "model_module_version": "1.5.0",
     "state": {
      "_model_module": "@jupyter-widgets/controls",
      "_model_module_version": "1.5.0",
      "_model_name": "DescriptionStyleModel",
      "_view_count": null,
      "_view_module": "@jupyter-widgets/base",
      "_view_module_version": "1.2.0",
      "_view_name": "StyleView",
      "description_width": ""
     }
    },
    "21f451546c5a47cba41aa20a5244ce12": {
     "model_module": "@jupyter-widgets/base",
     "model_name": "LayoutModel",
     "model_module_version": "1.2.0",
     "state": {
      "_model_module": "@jupyter-widgets/base",
      "_model_module_version": "1.2.0",
      "_model_name": "LayoutModel",
      "_view_count": null,
      "_view_module": "@jupyter-widgets/base",
      "_view_module_version": "1.2.0",
      "_view_name": "LayoutView",
      "align_content": null,
      "align_items": null,
      "align_self": null,
      "border": null,
      "bottom": null,
      "display": null,
      "flex": null,
      "flex_flow": null,
      "grid_area": null,
      "grid_auto_columns": null,
      "grid_auto_flow": null,
      "grid_auto_rows": null,
      "grid_column": null,
      "grid_gap": null,
      "grid_row": null,
      "grid_template_areas": null,
      "grid_template_columns": null,
      "grid_template_rows": null,
      "height": null,
      "justify_content": null,
      "justify_items": null,
      "left": null,
      "margin": null,
      "max_height": null,
      "max_width": null,
      "min_height": null,
      "min_width": null,
      "object_fit": null,
      "object_position": null,
      "order": null,
      "overflow": null,
      "overflow_x": null,
      "overflow_y": null,
      "padding": null,
      "right": null,
      "top": null,
      "visibility": null,
      "width": null
     }
    },
    "8c3fa138a0f1496c9bbba4c0b15ebd6e": {
     "model_module": "@jupyter-widgets/controls",
     "model_name": "ProgressStyleModel",
     "model_module_version": "1.5.0",
     "state": {
      "_model_module": "@jupyter-widgets/controls",
      "_model_module_version": "1.5.0",
      "_model_name": "ProgressStyleModel",
      "_view_count": null,
      "_view_module": "@jupyter-widgets/base",
      "_view_module_version": "1.2.0",
      "_view_name": "StyleView",
      "bar_color": null,
      "description_width": ""
     }
    },
    "df762befd390432baeb3ae6db7f14a6b": {
     "model_module": "@jupyter-widgets/base",
     "model_name": "LayoutModel",
     "model_module_version": "1.2.0",
     "state": {
      "_model_module": "@jupyter-widgets/base",
      "_model_module_version": "1.2.0",
      "_model_name": "LayoutModel",
      "_view_count": null,
      "_view_module": "@jupyter-widgets/base",
      "_view_module_version": "1.2.0",
      "_view_name": "LayoutView",
      "align_content": null,
      "align_items": null,
      "align_self": null,
      "border": null,
      "bottom": null,
      "display": null,
      "flex": null,
      "flex_flow": null,
      "grid_area": null,
      "grid_auto_columns": null,
      "grid_auto_flow": null,
      "grid_auto_rows": null,
      "grid_column": null,
      "grid_gap": null,
      "grid_row": null,
      "grid_template_areas": null,
      "grid_template_columns": null,
      "grid_template_rows": null,
      "height": null,
      "justify_content": null,
      "justify_items": null,
      "left": null,
      "margin": null,
      "max_height": null,
      "max_width": null,
      "min_height": null,
      "min_width": null,
      "object_fit": null,
      "object_position": null,
      "order": null,
      "overflow": null,
      "overflow_x": null,
      "overflow_y": null,
      "padding": null,
      "right": null,
      "top": null,
      "visibility": null,
      "width": null
     }
    },
    "08d684266f9f4b5389689393d0cff71b": {
     "model_module": "@jupyter-widgets/controls",
     "model_name": "DescriptionStyleModel",
     "model_module_version": "1.5.0",
     "state": {
      "_model_module": "@jupyter-widgets/controls",
      "_model_module_version": "1.5.0",
      "_model_name": "DescriptionStyleModel",
      "_view_count": null,
      "_view_module": "@jupyter-widgets/base",
      "_view_module_version": "1.2.0",
      "_view_name": "StyleView",
      "description_width": ""
     }
    }
   }
  }
 },
 "cells": [
  {
   "cell_type": "code",
   "source": [
    "import os\n",
    "\n",
    "from pprint import pprint\n",
    "\n",
    "# import torch\n",
    "import torch\n",
    "from torch import cuda, bfloat16\n",
    "\n",
    "# import transformers\n",
    "import transformers\n",
    "from transformers import StoppingCriteria, StoppingCriteriaList\n",
    "\n",
    "# import langchain\n",
    "from langchain import PromptTemplate\n",
    "from langchain.llms import HuggingFacePipeline\n",
    "from langchain_community.embeddings.sentence_transformer import (\n",
    "    SentenceTransformerEmbeddings,\n",
    "    )\n",
    "from langchain_community.vectorstores import Chroma\n",
    "from langchain.text_splitter import RecursiveCharacterTextSplitter\n",
    "from langchain_community.document_loaders import (\n",
    "    WikipediaLoader\n",
    "    )\n",
    "from langchain.schema.runnable import RunnablePassthrough\n",
    "from langchain.schema.output_parser import StrOutputParser\n",
    "from langchain.prompts import ChatPromptTemplate"
   ],
   "metadata": {
    "id": "yicerjO2aIy0"
   },
   "execution_count": 2,
   "outputs": []
  },
  {
   "cell_type": "markdown",
   "source": [
    "# Langsmith credentials"
   ],
   "metadata": {
    "id": "ZRZYI382bwcv"
   }
  },
  {
   "cell_type": "code",
   "source": [
    "os.environ['LANGCHAIN_TRACING_V2'] = 'true'\n",
    "os.environ['LANGCHAIN_ENDPOINT'] = 'https://api.smith.langchain.com'\n",
    "os.environ['LANGCHAIN_API_KEY'] = 'lc_yourkey'"
   ],
   "metadata": {
    "id": "nzgHLiJDbzkr"
   },
   "execution_count": 3,
   "outputs": []
  },
  {
   "cell_type": "code",
   "source": [
    "# the model and tokenizer for the generation\n",
    "LLM_MODEL=\"mistralai/Mistral-7B-Instruct-v0.2\"\n",
    "LLM_TOKENIZER=\"mistralai/Mistral-7B-Instruct-v0.2\"\n",
    "# placeholder for an embedding function\n",
    "embedding_function=None\n",
    "# set device to GPU if available\n",
    "device = f'cuda:{cuda.current_device()}' if cuda.is_available() else 'cpu'"
   ],
   "metadata": {
    "id": "Agyi5HZqkP9I"
   },
   "execution_count": 4,
   "outputs": []
  },
  {
   "cell_type": "markdown",
   "source": [
    "# Load data (i.e. Wikipedia articles about Aristophanes)"
   ],
   "metadata": {
    "id": "XHZG1VTIjEEh"
   }
  },
  {
   "cell_type": "code",
   "source": [
    "# Load Document\n",
    "loader = WikipediaLoader(query= \"Aristophanes\")\n",
    "\n",
    "loader.requests_kwargs = {\"verify\": False}\n",
    "\n",
    "document = loader.load()\n",
    "pprint(document[0].page_content[:200])"
   ],
   "metadata": {
    "colab": {
     "base_uri": "https://localhost:8080/"
    },
    "id": "7n_rfnGvaayH",
    "outputId": "4ff4aef9-c57c-4644-f831-c2f64fa161c7"
   },
   "execution_count": 5,
   "outputs": [
    {
     "output_type": "stream",
     "name": "stderr",
     "text": [
      "/usr/local/lib/python3.10/dist-packages/wikipedia/wikipedia.py:389: GuessedAtParserWarning: No parser was explicitly specified, so I'm using the best available HTML parser for this system (\"lxml\"). This usually isn't a problem, but if you run this code on another system, or in a different virtual environment, it may use a different parser and behave differently.\n",
      "\n",
      "The code that caused this warning is on line 389 of the file /usr/local/lib/python3.10/dist-packages/wikipedia/wikipedia.py. To get rid of this warning, pass the additional argument 'features=\"lxml\"' to the BeautifulSoup constructor.\n",
      "\n",
      "  lis = BeautifulSoup(html).find_all('li')\n"
     ]
    },
    {
     "output_type": "stream",
     "name": "stdout",
     "text": [
      "('Aristophanes (; Ancient Greek: Ἀριστοφάνης, pronounced [aristopʰánɛːs]; '\n",
      " 'c.\\u2009446 – c.\\u2009386 BC), son of Philippus and Zenodora, of the deme '\n",
      " 'Kydathenaion (Latin: Cydathenaeum), was a comic playwright or co')\n"
     ]
    }
   ]
  },
  {
   "cell_type": "code",
   "source": [
    "# Split\n",
    "text_splitter = RecursiveCharacterTextSplitter(chunk_size=500, chunk_overlap=100)\n",
    "splits = text_splitter.split_documents(document)\n",
    "splits[:2]"
   ],
   "metadata": {
    "colab": {
     "base_uri": "https://localhost:8080/"
    },
    "id": "XX7AcSxvd5_o",
    "outputId": "49e5a74b-ffd0-4ca5-c5a8-12daa62737f5"
   },
   "execution_count": 6,
   "outputs": [
    {
     "output_type": "execute_result",
     "data": {
      "text/plain": [
       "[Document(page_content='Aristophanes (; Ancient Greek: Ἀριστοφάνης, pronounced [aristopʰánɛːs]; c.\\u2009446 – c.\\u2009386 BC), son of Philippus and Zenodora, of the deme Kydathenaion (Latin: Cydathenaeum), was a comic playwright or comedy-writer of ancient Athens and a poet of Old Attic Comedy. Eleven of his forty plays survive virtually complete. These provide the most valuable examples of a genre of comic drama known as Old Comedy and are used to define it, along with fragments from dozens of lost plays by Aristophanes and his', metadata={'title': 'Aristophanes', 'summary': 'Aristophanes (; Ancient Greek: Ἀριστοφάνης, pronounced [aristopʰánɛːs]; c.\\u2009446 – c.\\u2009386 BC), son of Philippus and Zenodora, of the deme Kydathenaion (Latin: Cydathenaeum), was a comic playwright or comedy-writer of ancient Athens and a poet of Old Attic Comedy. Eleven of his forty plays survive virtually complete. These provide the most valuable examples of a genre of comic drama known as Old Comedy and are used to define it, along with fragments from dozens of lost plays by Aristophanes and his contemporaries.Also known as \"The Father of Comedy\" and \"the Prince of Ancient Comedy\", Aristophanes has been said to recreate the life of ancient Athens more convincingly than any other author. His powers of ridicule were feared and acknowledged by influential contemporaries; Plato singled out Aristophanes\\' play The Clouds as slander that contributed to the trial and subsequent condemning to death of Socrates, although other satirical playwrights had also caricatured the philosopher.\\nAristophanes\\' second play, The Babylonians (now lost), was denounced by Cleon as a slander against the Athenian polis. It is possible that the case was argued in court, but details of the trial are not recorded and Aristophanes caricatured Cleon mercilessly in his subsequent plays, especially The Knights, the first of many plays that he directed himself. \"In my opinion,\" he says through that play\\'s Chorus, \"the author-director of comedies has the hardest job of all.\"', 'source': 'https://en.wikipedia.org/wiki/Aristophanes'}),\n",
       " Document(page_content='and are used to define it, along with fragments from dozens of lost plays by Aristophanes and his contemporaries.Also known as \"The Father of Comedy\" and \"the Prince of Ancient Comedy\", Aristophanes has been said to recreate the life of ancient Athens more convincingly than any other author. His powers of ridicule were feared and acknowledged by influential contemporaries; Plato singled out Aristophanes\\' play The Clouds as slander that contributed to the trial and subsequent condemning to death', metadata={'title': 'Aristophanes', 'summary': 'Aristophanes (; Ancient Greek: Ἀριστοφάνης, pronounced [aristopʰánɛːs]; c.\\u2009446 – c.\\u2009386 BC), son of Philippus and Zenodora, of the deme Kydathenaion (Latin: Cydathenaeum), was a comic playwright or comedy-writer of ancient Athens and a poet of Old Attic Comedy. Eleven of his forty plays survive virtually complete. These provide the most valuable examples of a genre of comic drama known as Old Comedy and are used to define it, along with fragments from dozens of lost plays by Aristophanes and his contemporaries.Also known as \"The Father of Comedy\" and \"the Prince of Ancient Comedy\", Aristophanes has been said to recreate the life of ancient Athens more convincingly than any other author. His powers of ridicule were feared and acknowledged by influential contemporaries; Plato singled out Aristophanes\\' play The Clouds as slander that contributed to the trial and subsequent condemning to death of Socrates, although other satirical playwrights had also caricatured the philosopher.\\nAristophanes\\' second play, The Babylonians (now lost), was denounced by Cleon as a slander against the Athenian polis. It is possible that the case was argued in court, but details of the trial are not recorded and Aristophanes caricatured Cleon mercilessly in his subsequent plays, especially The Knights, the first of many plays that he directed himself. \"In my opinion,\" he says through that play\\'s Chorus, \"the author-director of comedies has the hardest job of all.\"', 'source': 'https://en.wikipedia.org/wiki/Aristophanes'})]"
      ]
     },
     "metadata": {},
     "execution_count": 6
    }
   ]
  },
  {
   "cell_type": "markdown",
   "source": [
    "# Create a Vector DB using the Chroma integration in Langchain"
   ],
   "metadata": {
    "id": "os_8Ycc5jL7f"
   }
  },
  {
   "cell_type": "markdown",
   "source": [
    "## Use a custom model as an embedding generator"
   ],
   "metadata": {
    "id": "FjYp7IRjjTxK"
   }
  },
  {
   "cell_type": "code",
   "source": [
    "EMBED_MODEL=\"all-MiniLM-L6-v2\""
   ],
   "metadata": {
    "id": "HhbohEJRjZEo"
   },
   "execution_count": 7,
   "outputs": []
  },
  {
   "cell_type": "code",
   "source": [
    "# load the model wrapped as an embedding function\n",
    "embedding_function = SentenceTransformerEmbeddings(model_name=EMBED_MODEL)"
   ],
   "metadata": {
    "colab": {
     "base_uri": "https://localhost:8080/"
    },
    "id": "5z0hdBBJermy",
    "outputId": "33b02d0a-afd8-434d-9c4f-e7f1bb332a88"
   },
   "execution_count": 8,
   "outputs": [
    {
     "output_type": "stream",
     "name": "stderr",
     "text": [
      "/usr/local/lib/python3.10/dist-packages/huggingface_hub/utils/_token.py:88: UserWarning: \n",
      "The secret `HF_TOKEN` does not exist in your Colab secrets.\n",
      "To authenticate with the Hugging Face Hub, create a token in your settings tab (https://huggingface.co/settings/tokens), set it as secret in your Google Colab and restart your session.\n",
      "You will be able to reuse this secret in all of your notebooks.\n",
      "Please note that authentication is recommended but still optional to access public models or datasets.\n",
      "  warnings.warn(\n",
      "/usr/local/lib/python3.10/dist-packages/torch/_utils.py:831: UserWarning: TypedStorage is deprecated. It will be removed in the future and UntypedStorage will be the only storage class. This should only matter to you if you are using storages directly.  To access UntypedStorage directly, use tensor.untyped_storage() instead of tensor.storage()\n",
      "  return self.fget.__get__(instance, owner)()\n"
     ]
    }
   ]
  },
  {
   "cell_type": "markdown",
   "source": [
    "## Create the Vector DB"
   ],
   "metadata": {
    "id": "4SWmTHaZjwmL"
   }
  },
  {
   "cell_type": "code",
   "source": [
    "# encode and load the data into Chroma\n",
    "db = Chroma.from_documents(splits, embedding_function)"
   ],
   "metadata": {
    "id": "If7vJqMTjfjV"
   },
   "execution_count": 9,
   "outputs": []
  },
  {
   "cell_type": "code",
   "source": [
    "# test query\n",
    "query = \"Euripides\"\n",
    "res = db.similarity_search(query)\n",
    "pprint(res)"
   ],
   "metadata": {
    "colab": {
     "base_uri": "https://localhost:8080/"
    },
    "id": "0Uv4tsCTj1jC",
    "outputId": "4452eaf2-3edd-4bd0-96ec-b890c1871c44"
   },
   "execution_count": 10,
   "outputs": [
    {
     "output_type": "stream",
     "name": "stdout",
     "text": [
      "[Document(page_content='Euripides (c.\\u2009480 – c.\\u2009406 BC) was a tragedian of classical Athens. Along with Aeschylus and Sophocles, he is one of the three ancient Greek tragedians for whom any plays have survived in full. Some ancient scholars attributed ninety-five plays to him, but the Suda says it was ninety-two at most. Of these, eighteen or nineteen have survived more or less complete (Rhesus is suspect). There are many fragments (some substantial) of most of his other plays. More of his plays have survived intact', metadata={'source': 'https://en.wikipedia.org/wiki/Euripides', 'summary': 'Euripides (c.\\u2009480 – c.\\u2009406 BC) was a tragedian of classical Athens. Along with Aeschylus and Sophocles, he is one of the three ancient Greek tragedians for whom any plays have survived in full. Some ancient scholars attributed ninety-five plays to him, but the Suda says it was ninety-two at most. Of these, eighteen or nineteen have survived more or less complete (Rhesus is suspect). There are many fragments (some substantial) of most of his other plays. More of his plays have survived intact than those of Aeschylus and Sophocles together, partly because his popularity grew as theirs declined—he became, in the Hellenistic Age, a cornerstone of ancient literary education, along with Homer, Demosthenes, and Menander.Euripides is identified with theatrical innovations that have profoundly influenced drama down to modern times, especially in the representation of traditional, mythical heroes as ordinary people in extraordinary circumstances. This new approach led him to pioneer developments that later writers adapted to comedy, some of which are characteristic of romance. He also became \"the most tragic of poets\", focusing on the inner lives and motives of his characters in a way previously unknown. He was \"the creator of ... that cage which is the theatre of Shakespeare\\'s Othello, Racine\\'s Phèdre, of Ibsen and Strindberg,\" in which \"imprisoned men and women destroy each other by the intensity of their loves and hates\". But he was also the literary ancestor of comic dramatists as diverse as Menander and George Bernard Shaw.His contemporaries associated him with Socrates as a leader of a decadent intellectualism. Both were frequently lampooned by comic poets such as Aristophanes. Socrates was eventually put on trial and executed as a corrupting influence. Ancient biographies hold that Euripides chose a voluntary exile in old age, dying in Macedonia, but recent scholarship casts doubt on these sources.', 'title': 'Euripides'}),\n",
      " Document(page_content='=== A fabled life ===\\nEuripides was the youngest in a group of three great tragedians, who were almost contemporaries: his first play was staged thi', metadata={'source': 'https://en.wikipedia.org/wiki/Euripides', 'summary': 'Euripides (c.\\u2009480 – c.\\u2009406 BC) was a tragedian of classical Athens. Along with Aeschylus and Sophocles, he is one of the three ancient Greek tragedians for whom any plays have survived in full. Some ancient scholars attributed ninety-five plays to him, but the Suda says it was ninety-two at most. Of these, eighteen or nineteen have survived more or less complete (Rhesus is suspect). There are many fragments (some substantial) of most of his other plays. More of his plays have survived intact than those of Aeschylus and Sophocles together, partly because his popularity grew as theirs declined—he became, in the Hellenistic Age, a cornerstone of ancient literary education, along with Homer, Demosthenes, and Menander.Euripides is identified with theatrical innovations that have profoundly influenced drama down to modern times, especially in the representation of traditional, mythical heroes as ordinary people in extraordinary circumstances. This new approach led him to pioneer developments that later writers adapted to comedy, some of which are characteristic of romance. He also became \"the most tragic of poets\", focusing on the inner lives and motives of his characters in a way previously unknown. He was \"the creator of ... that cage which is the theatre of Shakespeare\\'s Othello, Racine\\'s Phèdre, of Ibsen and Strindberg,\" in which \"imprisoned men and women destroy each other by the intensity of their loves and hates\". But he was also the literary ancestor of comic dramatists as diverse as Menander and George Bernard Shaw.His contemporaries associated him with Socrates as a leader of a decadent intellectualism. Both were frequently lampooned by comic poets such as Aristophanes. Socrates was eventually put on trial and executed as a corrupting influence. Ancient biographies hold that Euripides chose a voluntary exile in old age, dying in Macedonia, but recent scholarship casts doubt on these sources.', 'title': 'Euripides'}),\n",
      " Document(page_content='fragments (some substantial) of most of his other plays. More of his plays have survived intact than those of Aeschylus and Sophocles together, partly because his popularity grew as theirs declined—he became, in the Hellenistic Age, a cornerstone of ancient literary education, along with Homer, Demosthenes, and Menander.Euripides is identified with theatrical innovations that have profoundly influenced drama down to modern times, especially in the representation of traditional, mythical heroes', metadata={'source': 'https://en.wikipedia.org/wiki/Euripides', 'summary': 'Euripides (c.\\u2009480 – c.\\u2009406 BC) was a tragedian of classical Athens. Along with Aeschylus and Sophocles, he is one of the three ancient Greek tragedians for whom any plays have survived in full. Some ancient scholars attributed ninety-five plays to him, but the Suda says it was ninety-two at most. Of these, eighteen or nineteen have survived more or less complete (Rhesus is suspect). There are many fragments (some substantial) of most of his other plays. More of his plays have survived intact than those of Aeschylus and Sophocles together, partly because his popularity grew as theirs declined—he became, in the Hellenistic Age, a cornerstone of ancient literary education, along with Homer, Demosthenes, and Menander.Euripides is identified with theatrical innovations that have profoundly influenced drama down to modern times, especially in the representation of traditional, mythical heroes as ordinary people in extraordinary circumstances. This new approach led him to pioneer developments that later writers adapted to comedy, some of which are characteristic of romance. He also became \"the most tragic of poets\", focusing on the inner lives and motives of his characters in a way previously unknown. He was \"the creator of ... that cage which is the theatre of Shakespeare\\'s Othello, Racine\\'s Phèdre, of Ibsen and Strindberg,\" in which \"imprisoned men and women destroy each other by the intensity of their loves and hates\". But he was also the literary ancestor of comic dramatists as diverse as Menander and George Bernard Shaw.His contemporaries associated him with Socrates as a leader of a decadent intellectualism. Both were frequently lampooned by comic poets such as Aristophanes. Socrates was eventually put on trial and executed as a corrupting influence. Ancient biographies hold that Euripides chose a voluntary exile in old age, dying in Macedonia, but recent scholarship casts doubt on these sources.', 'title': 'Euripides'}),\n",
      " Document(page_content='The maid describes the Euripides-Aeschylus conflict. Euripides, who had only just recently died, is challenging the great Aeschylus for the seat of \"Best Tragic Poet\" at the dinner table of Pluto, the ruler of the underworld. A contest is held with Dionysus as judge. The two playwrights take turns quoting verses from their plays and making fun of the other. Euripides argues the characters in his plays are better because they are more true to life and logical, whereas Aeschylus believes his', metadata={'source': 'https://en.wikipedia.org/wiki/The_Frogs', 'summary': 'The Frogs (Greek: Βάτραχοι, translit. Bátrakhoi, lit. \"Frogs\"; Latin: Ranae, often abbreviated Ran. or Ra.) is a comedy written by the Ancient Greek playwright Aristophanes. It was performed at the Lenaia, one of the Festivals of Dionysus in Athens, in 405 BC and received first place.\\n\\n', 'title': 'The Frogs'})]\n"
     ]
    }
   ]
  },
  {
   "cell_type": "markdown",
   "source": [
    "# LLM COMPONENT FOR GENERATION"
   ],
   "metadata": {
    "id": "KHDjAxcfkobt"
   }
  },
  {
   "cell_type": "code",
   "source": [
    "# load the model\n",
    "model = transformers.AutoModelForCausalLM.from_pretrained(LLM_MODEL, trust_remote_code=True, torch_dtype=bfloat16)\n",
    "# set it to evaluation mode\n",
    "model.eval()\n",
    "# assign it to the available device\n",
    "model.to(device)\n",
    "\n",
    "# load the tokenizer\n",
    "tokenizer = transformers.AutoTokenizer.from_pretrained(LLM_MODEL)"
   ],
   "metadata": {
    "colab": {
     "base_uri": "https://localhost:8080/",
     "height": 49,
     "referenced_widgets": [
      "3b801777e1c6479992eb61657f2a1b41",
      "54b1fd08d2614052b671de1a11ad2e6e",
      "295c3d70e5eb424c8942bfb009256dfa",
      "7ac08aa89db34562916aaa3d0b8a30f7",
      "c14db9c6e4a744668d095752de79855f",
      "884c8189c895482ca1aa778fab6203a0",
      "901b38a4213a4033a59605d8e173d6a6",
      "21f451546c5a47cba41aa20a5244ce12",
      "8c3fa138a0f1496c9bbba4c0b15ebd6e",
      "df762befd390432baeb3ae6db7f14a6b",
      "08d684266f9f4b5389689393d0cff71b"
     ]
    },
    "id": "XBSLWeg1kEKn",
    "outputId": "c63a13dc-0e4b-41ac-9cb2-7f3344aebc71"
   },
   "execution_count": 11,
   "outputs": [
    {
     "output_type": "display_data",
     "data": {
      "text/plain": [
       "Loading checkpoint shards:   0%|          | 0/3 [00:00<?, ?it/s]"
      ],
      "application/vnd.jupyter.widget-view+json": {
       "version_major": 2,
       "version_minor": 0,
       "model_id": "3b801777e1c6479992eb61657f2a1b41"
      }
     },
     "metadata": {}
    }
   ]
  },
  {
   "cell_type": "markdown",
   "source": [
    "## Create a custom stopping criteria object"
   ],
   "metadata": {
    "id": "JVCcAZe6lKkB"
   }
  },
  {
   "cell_type": "code",
   "source": [
    "# mistral is trained to add \"</s>\" at the end of generations\n",
    "stop_token_ids = tokenizer.convert_tokens_to_ids([\"</s>\"])\n",
    "\n",
    "# define custom stopping criteria object\n",
    "class StopOnTokens(StoppingCriteria):\n",
    "  def __call__(self, input_ids: torch.LongTensor, scores: torch.FloatTensor, **kwargs) -> bool:\n",
    "    for stop_id in stop_token_ids:\n",
    "      if input_ids[0][-1] == stop_id:\n",
    "        return True\n",
    "    return False\n",
    "\n",
    "stopping_criteria = StoppingCriteriaList([StopOnTokens()])"
   ],
   "metadata": {
    "id": "gyNnpzAWk5uH"
   },
   "execution_count": 12,
   "outputs": []
  },
  {
   "cell_type": "markdown",
   "source": [
    "## FINALIZE THE LLM"
   ],
   "metadata": {
    "id": "DUdj3rC5mqg5"
   }
  },
  {
   "cell_type": "code",
   "source": [
    "generate_text = transformers.pipeline(\n",
    "    model=model, tokenizer=tokenizer,\n",
    "    return_full_text=True, # langchain expects the full text\n",
    "    task='text-generation', device=device, # we pass model parameters here too\n",
    "    stopping_criteria=stopping_criteria, # without this model will ramble\n",
    "    temperature=0.1, # 'randomness' of outputs, 0.0 is the min and 1.0 the max\n",
    "    top_p=0.15, # select from top tokens whose probability add up to 15%\n",
    "    top_k=0, # select from top 0 tokens (because zero, relies on top_p)\n",
    "    max_new_tokens=512, # max number of tokens to generate in the output\n",
    "    repetition_penalty=1.1, # without this output begins repeating\n",
    "    do_sample=True\n",
    "    )\n",
    "\n",
    "prompt = PromptTemplate(input_variables=[\"instruction\"], template=\"{instruction}\")\n",
    "llm = HuggingFacePipeline(pipeline=generate_text)"
   ],
   "metadata": {
    "id": "SO1YMLlXmpmq"
   },
   "execution_count": 13,
   "outputs": []
  },
  {
   "cell_type": "markdown",
   "source": [
    "# PUT EVERYTHING TOGETHER"
   ],
   "metadata": {
    "id": "sp_7JLZOm0Qj"
   }
  },
  {
   "cell_type": "markdown",
   "source": [
    "## PROMPT"
   ],
   "metadata": {
    "id": "MFwlGdb5nXBl"
   }
  },
  {
   "cell_type": "code",
   "source": [
    "template = \"\"\"You are an assistant for question-answering tasks.\n",
    "Use the following pieces of retrieved context to answer the question.\n",
    "If the answer is not presented, just say that you don't know.\n",
    "Use three sentences maximum and keep the answer concise.\n",
    "Question: {question}\n",
    "Context: {context}\n",
    "Answer:\n",
    "\"\"\"\n",
    "prompt = ChatPromptTemplate.from_template(template)"
   ],
   "metadata": {
    "id": "497UopPXlYg1"
   },
   "execution_count": 14,
   "outputs": []
  },
  {
   "cell_type": "markdown",
   "source": [
    "## CHAIN"
   ],
   "metadata": {
    "id": "TGkucORDncpN"
   }
  },
  {
   "cell_type": "code",
   "source": [
    "# Post-processing\n",
    "def format_docs(docs):\n",
    "    return \"\\n\\n\".join(doc.page_content for doc in docs)\n",
    "\n",
    "# chain\n",
    "rag_chain = (\n",
    "    {\"context\": db.as_retriever(k=5) | format_docs,  \"question\": RunnablePassthrough()}\n",
    "    | prompt\n",
    "    | llm\n",
    "    | StrOutputParser()\n",
    ")"
   ],
   "metadata": {
    "id": "VM_azCzYm3H9"
   },
   "execution_count": 15,
   "outputs": []
  },
  {
   "cell_type": "markdown",
   "source": [
    "# TEST IT"
   ],
   "metadata": {
    "id": "cqdV8pytnnMe"
   }
  },
  {
   "cell_type": "code",
   "source": [
    "query = \"Name the surviving Aristophanes' works and give a short description\""
   ],
   "metadata": {
    "id": "Yp-Wu8gAngjM"
   },
   "execution_count": 16,
   "outputs": []
  },
  {
   "cell_type": "code",
   "source": [
    "pprint(rag_chain.invoke(query))"
   ],
   "metadata": {
    "colab": {
     "base_uri": "https://localhost:8080/"
    },
    "id": "ccBqf_Tqnt1t",
    "outputId": "44a782a9-917d-42bf-fd3b-4dbbf9bfb1f1"
   },
   "execution_count": 17,
   "outputs": [
    {
     "output_type": "stream",
     "name": "stderr",
     "text": [
      "Setting `pad_token_id` to `eos_token_id`:2 for open-end generation.\n"
     ]
    },
    {
     "output_type": "stream",
     "name": "stdout",
     "text": [
      "('Aristophanes is best known for his comedies. Some surviving works include '\n",
      " '\"The Clouds,\" \"Lysistrata,\" and \"Frogs.\" In \"The Clouds,\" Socrates is '\n",
      " 'satirized as a teacher who corrupts young men. \"Lysistrata\" revolves around '\n",
      " 'women withholding sex from their husbands to end the Peloponnesian War. '\n",
      " '\"Frogs\" features Dionysus traveling to the underworld to retrieve Euripides. '\n",
      " 'Aristophanes also contributed to language studies, compiling lists of '\n",
      " 'foreign words and unusual expressions.')\n"
     ]
    }
   ]
  }
 ]
}
